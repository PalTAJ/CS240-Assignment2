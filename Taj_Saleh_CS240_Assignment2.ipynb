{
 "cells": [
  {
   "cell_type": "markdown",
   "metadata": {},
   "source": [
    "# CS 240 Assignment 2 "
   ]
  },
  {
   "cell_type": "markdown",
   "metadata": {},
   "source": [
    "# Taj Saleh - 214172235"
   ]
  },
  {
   "cell_type": "code",
   "execution_count": 1,
   "metadata": {
    "collapsed": true
   },
   "outputs": [],
   "source": [
    "\n",
    "import nsfg\n",
    "\n",
    "import thinkstats2\n",
    "import thinkplot\n",
    "%matplotlib inline"
   ]
  },
  {
   "cell_type": "code",
   "execution_count": 2,
   "metadata": {
    "collapsed": true
   },
   "outputs": [],
   "source": [
    "resp = nsfg.ReadFemResp()"
   ]
  },
  {
   "cell_type": "code",
   "execution_count": 3,
   "metadata": {},
   "outputs": [],
   "source": [
    "School = resp[resp.hieduc<10]\n",
    "university = resp[resp.hieduc>10]"
   ]
  },
  {
   "cell_type": "code",
   "execution_count": 22,
   "metadata": {},
   "outputs": [],
   "source": [
    "# resp.columns"
   ]
  },
  {
   "cell_type": "code",
   "execution_count": null,
   "metadata": {
    "collapsed": true
   },
   "outputs": [],
   "source": []
  },
  {
   "cell_type": "code",
   "execution_count": 5,
   "metadata": {},
   "outputs": [
    {
     "name": "stdout",
     "output_type": "stream",
     "text": [
      "mean , median , std , variance , mode for Univeristy part\n"
     ]
    },
    {
     "data": {
      "text/plain": [
       "(4.379020979020979, 3.0, 11.142874202659534, 124.16364549629535, 0    3\n",
       " dtype: int64)"
      ]
     },
     "execution_count": 5,
     "metadata": {},
     "output_type": "execute_result"
    }
   ],
   "source": [
    "print \"mean , median , std , variance , mode for Univeristy part\"\n",
    "university.agemomb1.mean(),university.agemomb1.median(),university.agemomb1.std(),university.agemomb1.var(),university.agemomb1.mode()"
   ]
  },
  {
   "cell_type": "code",
   "execution_count": 6,
   "metadata": {},
   "outputs": [
    {
     "name": "stdout",
     "output_type": "stream",
     "text": [
      "mean , median , std , variance , mode for School part\n"
     ]
    },
    {
     "data": {
      "text/plain": [
       "(3.656943727413526, 3.0, 10.405328907118122, 108.27086966530803, 0    3\n",
       " dtype: int64)"
      ]
     },
     "execution_count": 6,
     "metadata": {},
     "output_type": "execute_result"
    }
   ],
   "source": [
    "print \"mean , median , std , variance , mode for School part\"\n",
    "School.agemomb1.mean(),School.agemomb1.median(),School.agemomb1.std(),School.agemomb1.var(),School.agemomb1.mode()"
   ]
  },
  {
   "cell_type": "code",
   "execution_count": null,
   "metadata": {
    "collapsed": true
   },
   "outputs": [],
   "source": []
  },
  {
   "cell_type": "code",
   "execution_count": 7,
   "metadata": {},
   "outputs": [
    {
     "data": {
      "image/png": "[encoded data removed]",
      "text/plain": [
       "<matplotlib.figure.Figure at 0x61b01d0>"
      ]
     },
     "metadata": {},
     "output_type": "display_data"
    }
   ],
   "source": [
    "width = 0.5\n",
    "\n",
    "\n",
    "school_pmf = thinkstats2.Pmf(School.hieduc,     label='School')\n",
    "uni_pmf = thinkstats2.Pmf(university.hieduc, label = 'University')\n",
    "# plot PMFs of birth weights for first babies and others\n",
    "thinkplot.PrePlot(2)\n",
    "thinkplot.Pmf(school_pmf, align='right', width=width)\n",
    "thinkplot.Pmf(uni_pmf, align='left',  width=width)\n",
    "thinkplot.Config(xlabel='Education', ylabel='PMF')\n"
   ]
  },
  {
   "cell_type": "code",
   "execution_count": 8,
   "metadata": {},
   "outputs": [
    {
     "data": {
      "image/png": "[encoded data removed]",
      "text/plain": [
       "<matplotlib.figure.Figure at 0x2bc28eb8>"
      ]
     },
     "metadata": {},
     "output_type": "display_data"
    }
   ],
   "source": [
    "\n",
    "\n",
    "thinkplot.preplot(2)\n",
    "first = thinkstats2.Cdf(School.hieduc,      label='School')\n",
    "other = thinkstats2.Cdf(university.hieduc,  label = 'University')\n",
    "thinkplot.Cdfs([first,other])\n",
    "thinkplot.Config(xlabel='Education', ylabel='CDF')"
   ]
  },
  {
   "cell_type": "code",
   "execution_count": 9,
   "metadata": {
    "collapsed": true
   },
   "outputs": [],
   "source": [
    "sm = School.agemomb1\n",
    "um = university.agemomb1\n"
   ]
  },
  {
   "cell_type": "code",
   "execution_count": 10,
   "metadata": {},
   "outputs": [
    {
     "data": {
      "text/plain": [
       "Pmf({96L: 0.012390294269488901, 1L: 0.24135260712441922, 2L: 0.22767165720185856, 3L: 0.3549303045947341, 4L: 0.11228704181724317, 5L: 0.05136809499225607})"
      ]
     },
     "execution_count": 10,
     "metadata": {},
     "output_type": "execute_result"
    }
   ],
   "source": [
    "# hist = thinkstats2.Hist(sm, label='birthwgt_lb')\n",
    "# hist\n",
    "\n",
    "pmf = thinkstats2.Pmf(sm)\n",
    "pmf"
   ]
  },
  {
   "cell_type": "code",
   "execution_count": 11,
   "metadata": {},
   "outputs": [
    {
     "data": {
      "text/plain": [
       "Pmf({96L: 0.014452214452214451, 1L: 0.08391608391608392, 2L: 0.16037296037296037, 3L: 0.4536130536130536, 4L: 0.21212121212121213, 5L: 0.07552447552447553})"
      ]
     },
     "execution_count": 11,
     "metadata": {},
     "output_type": "execute_result"
    }
   ],
   "source": [
    "# hist1 = thinkstats2.Hist(um, label='birthwgt_lb')\n",
    "# hist1\n",
    "\n",
    "pmf1 = thinkstats2.Pmf(um)\n",
    "pmf1"
   ]
  },
  {
   "cell_type": "code",
   "execution_count": 12,
   "metadata": {},
   "outputs": [
    {
     "data": {
      "image/png": "[encoded data removed]",
      "text/plain": [
       "<matplotlib.figure.Figure at 0x2bc28da0>"
      ]
     },
     "metadata": {},
     "output_type": "display_data"
    }
   ],
   "source": [
    "\n",
    "thinkplot.Pmf(pmf)\n",
    "thinkplot.Config(xlabel='difference for ages of mothers', ylabel='Pmf')"
   ]
  },
  {
   "cell_type": "code",
   "execution_count": 13,
   "metadata": {},
   "outputs": [
    {
     "data": {
      "image/png": "[encoded data removed]",
      "text/plain": [
       "<matplotlib.figure.Figure at 0x267036a0>"
      ]
     },
     "metadata": {},
     "output_type": "display_data"
    }
   ],
   "source": [
    "thinkplot.Pmf(pmf1)\n",
    "thinkplot.Config(xlabel='difference for ages of mothers', ylabel='Pmf')"
   ]
  },
  {
   "cell_type": "code",
   "execution_count": 14,
   "metadata": {},
   "outputs": [
    {
     "data": {
      "image/png": "[encoded data removed]",
      "text/plain": [
       "<matplotlib.figure.Figure at 0x27504710>"
      ]
     },
     "metadata": {},
     "output_type": "display_data"
    }
   ],
   "source": [
    "first = thinkstats2.Cdf(School.agemomb1 , label = 'School')\n",
    "\n",
    "thinkplot.Cdf(first)\n",
    "thinkplot.Config(xlabel = 'Education' , ylabel = 'CDF')"
   ]
  },
  {
   "cell_type": "code",
   "execution_count": 15,
   "metadata": {},
   "outputs": [
    {
     "name": "stdout",
     "output_type": "stream",
     "text": [
      "[24.135260712441923, 22.767165720185854, 35.49303045947341, 11.228704181724316, 5.136809499225607]\n",
      "[8.391608391608392, 16.037296037296038, 45.36130536130536, 21.21212121212121, 7.5524475524475525]\n",
      "<>~~~~~~~~~~~~<>~~~~~~~~~~~~~~~<>  Above 18 below\n",
      "[1.2390294269488902]\n",
      "[1.4452214452214451]\n"
     ]
    }
   ],
   "source": [
    "## School\n",
    "pmf = thinkstats2.Pmf(sm)\n",
    "m18 = []\n",
    "p18 =[]\n",
    "for i in pmf:\n",
    "    if i < 18:\n",
    "        m18.append(pmf[i]*100)\n",
    "    else :\n",
    "        p18.append(pmf[i]*100)\n",
    "        \n",
    "## Univeristy\n",
    "pmf2 = thinkstats2.Pmf(um)\n",
    "mm18 = []\n",
    "pp18 =[]\n",
    "for i in pmf2:\n",
    "    if i < 18:\n",
    "        mm18.append(pmf2[i]*100)\n",
    "    else:\n",
    "        pp18.append(pmf2[i]*100)\n",
    "        \n",
    "print m18 # School\n",
    "print mm18 # University\n",
    "print \"<>~~~~~~~~~~~~<>~~~~~~~~~~~~~~~<>  Above 18 below\"\n",
    "\n",
    "print p18 # School\n",
    "print pp18 # University\n"
   ]
  },
  {
   "cell_type": "code",
   "execution_count": 16,
   "metadata": {},
   "outputs": [
    {
     "name": "stdout",
     "output_type": "stream",
     "text": [
      "   probability of mothers are under 18 years old:\n",
      "probability of  24.1352607124  is  0.8  in School\n",
      "probability of  22.7671657202  is  0.6  in School\n",
      "probability of  35.4930304595  is  1.0  in School\n",
      "probability of  11.2287041817  is  0.4  in School\n",
      "probability of  5.13680949923  is  0.2  in School\n",
      "<>~~~~~~~~~~~~<>~~~~~~~~~~~~~~~<> \n",
      "probability of  8.39160839161  is  0.4  in University\n",
      "probability of  16.0372960373  is  0.6  in University\n",
      "probability of  45.3613053613  is  1.0  in University\n",
      "probability of  21.2121212121  is  0.8  in University\n",
      "probability of  7.55244755245  is  0.2  in University\n"
     ]
    }
   ],
   "source": [
    "def EvalCdf(sample, x):\n",
    "    count = 0.0\n",
    "    for value in sample:\n",
    "        if value <= x:\n",
    "            count += 1\n",
    "    prob = count / len(sample)\n",
    "    return prob\n",
    "\n",
    "print \"   probability of mothers are under 18 years old:\"\n",
    "for i in m18:\n",
    "    print \"probability of \",i,\" is \",EvalCdf(m18,i),\" in School\"\n",
    "print \"<>~~~~~~~~~~~~<>~~~~~~~~~~~~~~~<> \"\n",
    "for j in mm18:\n",
    "    print \"probability of \",j,\" is \",EvalCdf(mm18,j),\" in University\""
   ]
  },
  {
   "cell_type": "code",
   "execution_count": 17,
   "metadata": {},
   "outputs": [
    {
     "name": "stdout",
     "output_type": "stream",
     "text": [
      "   percentile of mothers are 18 and older than 18 years old:\n",
      "percentile of  1.23902942695  is  100.0  in School\n",
      "<>~~~~~~~~~~~~<>~~~~~~~~~~~~~~~<> \n",
      "percentile of  1.44522144522  is  100.0  in University\n"
     ]
    }
   ],
   "source": [
    "def PercentileRank(scores, your_score):\n",
    "    count = 0\n",
    "    for score in scores:\n",
    "        if score <= your_score:\n",
    "            count += 1\n",
    "        percentile_rank = 100.0 * count / len(scores)\n",
    "    return percentile_rank\n",
    "\n",
    "\n",
    "# print \"   percentile of mothers are under 18 years old:\"\n",
    "# for i in m18:\n",
    "#     print \"percentile of \",i,\" is \",PercentileRank(m18,i),\" in School\"\n",
    "# print \"<>~~~~~~~~~~~~<>~~~~~~~~~~~~~~~<> \"\n",
    "# for j in mm18:\n",
    "#     print \"percentile of \",j,\" is \",PercentileRank(mm18,j),\" in University\"\n",
    "\n",
    "# print \"---------------------------------------------------------\"\n",
    "\n",
    "\n",
    "print \"   percentile of mothers are 18 and older than 18 years old:\"\n",
    "for i in p18:\n",
    "    print \"percentile of \",i,\" is \",PercentileRank(p18,i),\" in School\"\n",
    "print \"<>~~~~~~~~~~~~<>~~~~~~~~~~~~~~~<> \"\n",
    "for j in pp18:\n",
    "    print \"percentile of \",j,\" is \",PercentileRank(pp18,j),\" in University\"\n",
    " \n"
   ]
  },
  {
   "cell_type": "code",
   "execution_count": 18,
   "metadata": {},
   "outputs": [],
   "source": [
    "##### CDF Distribution "
   ]
  },
  {
   "cell_type": "code",
   "execution_count": 24,
   "metadata": {},
   "outputs": [
    {
     "data": {
      "image/png": "[encoded data removed]",
      "text/plain": [
       "<matplotlib.figure.Figure at 0x25d8d1d0>"
      ]
     },
     "metadata": {},
     "output_type": "display_data"
    }
   ],
   "source": [
    "# resp.agescrn\n",
    "\n",
    "diffs = resp.agescrn.diff()\n",
    "\n",
    "cdf = thinkstats2.Cdf(diffs, label='actual')\n",
    "thinkplot.Cdf(cdf)\n",
    "thinkplot.Config(xlabel='Difference between agescrn', ylabel='CDF')"
   ]
  },
  {
   "cell_type": "code",
   "execution_count": 20,
   "metadata": {
    "collapsed": true
   },
   "outputs": [],
   "source": [
    "#### PMF Distribution"
   ]
  },
  {
   "cell_type": "code",
   "execution_count": 21,
   "metadata": {},
   "outputs": [
    {
     "data": {
      "image/png": "[encoded data removed]",
      "text/plain": [
       "<matplotlib.figure.Figure at 0x2bc28518>"
      ]
     },
     "metadata": {},
     "output_type": "display_data"
    }
   ],
   "source": [
    "width = 0.5\n",
    "\n",
    "# plot PMFs of birth weights for first babies and others\n",
    "diffs2 = thinkstats2.Pmf(diffs, label='first')\n",
    "thinkplot.Hist(diffs2, align='right', width=width)\n",
    "thinkplot.Config(xlabel='Difference between agescrn', ylabel='PMF')"
   ]
  },
  {
   "cell_type": "code",
   "execution_count": null,
   "metadata": {
    "collapsed": true
   },
   "outputs": [],
   "source": []
  },
  {
   "cell_type": "code",
   "execution_count": null,
   "metadata": {
    "collapsed": true
   },
   "outputs": [],
   "source": []
  },
  {
   "cell_type": "code",
   "execution_count": null,
   "metadata": {
    "collapsed": true
   },
   "outputs": [],
   "source": []
  },
  {
   "cell_type": "code",
   "execution_count": null,
   "metadata": {
    "collapsed": true
   },
   "outputs": [],
   "source": []
  }
 ],
 "metadata": {
  "kernelspec": {
   "display_name": "Python 2",
   "language": "python",
   "name": "python2"
  },
  "language_info": {
   "codemirror_mode": {
    "name": "ipython",
    "version": 2
   },
   "file_extension": ".py",
   "mimetype": "text/x-python",
   "name": "python",
   "nbconvert_exporter": "python",
   "pygments_lexer": "ipython2",
   "version": "2.7.13"
  }
 },
 "nbformat": 4,
 "nbformat_minor": 2
}
